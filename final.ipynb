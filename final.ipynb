{
 "cells": [
  {
   "cell_type": "code",
   "execution_count": 3,
   "metadata": {
    "collapsed": true,
    "pycharm": {
     "name": "#%%\n"
    }
   },
   "outputs": [],
   "source": [
    "import numpy as np\n",
    "from sklearn.preprocessing import MinMaxScaler\n",
    "from sklearn.model_selection import train_test_split\n",
    "from sklearn import datasets"
   ]
  },
  {
   "cell_type": "code",
   "execution_count": 2,
   "outputs": [],
   "source": [
    "\n",
    "class Perceptron:\n",
    "    def __init__(self, num_features, hidden_layers, num_classes, activations, loss_function):\n",
    "        self.num_features = num_features\n",
    "        self.activations = activations\n",
    "        self.loss_function = loss_function\n",
    "        self.hidden_layers = hidden_layers\n",
    "        self.num_classes = num_classes\n",
    "        self.num_layers = len(hidden_layers) + 1\n",
    "        self.W = []\n",
    "        self.B = []\n",
    "        self.Z = []\n",
    "        self.A = []\n",
    "        self.history = None\n",
    "        self._init_params()\n",
    "\n",
    "    def _init_params(self):\n",
    "        self.W.append(np.random.rand(self.hidden_layers[0], self.num_features)) # input - hidden\n",
    "        first_hidden = 0\n",
    "        last_hidden = self.num_layers - 2\n",
    "        for i in range(first_hidden, last_hidden):\n",
    "            self.W.append(np.random.rand(self.hidden_layers[i+1], self.hidden_layers[i]))\n",
    "        # self.W.append(np.random.rand(self.hidden_layers[1], self.hidden_layers[0]))\n",
    "        # self.W.append(np.random.rand(self.hidden_layers[2], self.hidden_layers[1]))\n",
    "        self.W.append(np.random.rand(self.num_classes, self.hidden_layers[last_hidden])) # hidden - output\n",
    "\n",
    "        for i in range(first_hidden, last_hidden+1):\n",
    "            self.B.append(np.random.rand(self.hidden_layers[i]))\n",
    "        # self.B.append(np.random.rand(self.hidden_layers[0])) # first hidden\n",
    "        # self.B.append(np.random.rand(self.hidden_layers[1]))\n",
    "        # self.B.append(np.random.rand(self.hidden_layers[2])) # last hidden\n",
    "        self.B.append(np.random.rand(self.num_classes)) # output\n",
    "\n",
    "        for _ in range(self.num_layers):\n",
    "            # create list placeholders for Z and A\n",
    "            self.Z.append(None)\n",
    "        for _ in range(self.num_layers - 1):\n",
    "            self.A.append(None)\n",
    "        self.history = {\"train_loss\": [], \"val_loss\": [], \"train_acc\": [], \"val_acc\": []}\n",
    "\n",
    "    def predict_sample(self, X):\n",
    "        Z0 = np.dot(self.W[0], X) + self.B[0]\n",
    "        self.Z[0] = Z0\n",
    "        A0 = self.activations[0](Z0)\n",
    "        self.A[0] = A0\n",
    "\n",
    "        # Z1 = np.dot(self.W[1], A0) + self.B[1]\n",
    "        # self.Z[1] = Z1\n",
    "        # A1 = self.activations[1](Z1)\n",
    "        # self.A[1] = A1\n",
    "        #\n",
    "        # Z2 = np.dot(self.W[2], A1) + self.B[2]\n",
    "        # self.Z[2] = Z2\n",
    "        # A2 = self.activations[2](Z2)\n",
    "        # self.A[2] = A2\n",
    "\n",
    "        for i in range(1, self.num_layers-1):\n",
    "            Z = np.dot(self.W[i], self.A[i-1]) + self.B[i]\n",
    "            self.Z[i] = Z\n",
    "            A = self.activations[i](Z)\n",
    "            self.A[i] = A\n",
    "\n",
    "        Z_last = np.dot(self.W[-1], self.A[-1]) + self.B[-1]\n",
    "        self.Z[-1] = Z_last\n",
    "        A_last = self.activations[-1](Z_last)\n",
    "        return A_last\n",
    "\n",
    "    def predict_batch(self, X):\n",
    "        predictions = []\n",
    "        for element in X:\n",
    "            predictions.append(self.predict_sample(element))\n",
    "        return np.array(predictions)\n",
    "\n",
    "    def train(self, x_train, y_train, x_test, y_test, learning_rate=0.1, epochs=100):\n",
    "        for epoch in range(epochs):\n",
    "            total_losses = 0\n",
    "            for i in range(len(x_train)):\n",
    "                x_i = np.array(x_train[i])\n",
    "                Yh = self.predict_sample(x_train[i])\n",
    "                loss = self.loss_function(y_train[i], Yh)\n",
    "                total_losses += loss\n",
    "\n",
    "                last_hidden = self.num_layers - 2\n",
    "                first_hidden = 1\n",
    "\n",
    "                # output layer\n",
    "                dloss_Yh = self.loss_function(y_train[i], Yh, der=True)\n",
    "                dloss_A3 = dloss_Yh\n",
    "                dloss_Z = np.dot(dloss_A3, self.activations[-1](self.Z[-1], der=True))\n",
    "                dloss_A = np.dot(self.W[-1].T, dloss_Z)\n",
    "                dloss_W3 = np.kron(dloss_Z, self.A[-1]).reshape(self.num_classes, self.hidden_layers[last_hidden])\n",
    "                dloss_B3 = dloss_Z\n",
    "\n",
    "\n",
    "                hd_dloss_Z = []\n",
    "                hd_dloss_A = []\n",
    "                hd_dloss_W = []\n",
    "                hd_dloss_B = []\n",
    "\n",
    "                for i_hd_lay in reversed(range(first_hidden, last_hidden+1)):\n",
    "                    dloss_Z = dloss_A * self.activations[i_hd_lay](self.Z[i_hd_lay], der=True)\n",
    "                    hd_dloss_Z.insert(0, dloss_Z)\n",
    "                    dloss_A = np.dot(self.W[i_hd_lay].T, dloss_Z)\n",
    "                    hd_dloss_A.insert(0, dloss_A)\n",
    "                    dloss_W1 = np.kron(dloss_Z, self.A[i_hd_lay - 1]).reshape(self.hidden_layers[i_hd_lay],\n",
    "                                                                                   self.hidden_layers[i_hd_lay - 1])\n",
    "                    hd_dloss_W.insert(0, dloss_W1)\n",
    "                    dloss_B1 = dloss_Z\n",
    "                    hd_dloss_B.insert(0, dloss_B1)\n",
    "\n",
    "                # input layer\n",
    "                dloss_Z0 = dloss_A * self.activations[0](self.Z[0], der=True)\n",
    "                dloss_W0 = np.kron(dloss_Z0, x_i).reshape(self.hidden_layers[0], self.num_features)\n",
    "                dloss_B0 = dloss_Z0\n",
    "\n",
    "                # output layer\n",
    "                self.W[-1] -= learning_rate * dloss_W3\n",
    "                self.B[-1] -= learning_rate * dloss_B3\n",
    "\n",
    "                # hidden layers\n",
    "                for i in range(first_hidden, last_hidden):\n",
    "                    self.W[i+1] -= learning_rate * hd_dloss_W[i]\n",
    "                    self.B[i+1] -= learning_rate * hd_dloss_B[i]\n",
    "                # input layer\n",
    "                self.W[0] -= learning_rate * dloss_W0\n",
    "                self.B[0] -= learning_rate * dloss_B0\n",
    "            # evaluate the model\n",
    "            self.history[\"train_acc\"].append(self.score(x_train, y_train))\n",
    "            self.history[\"val_acc\"].append(self.score(x_test, y_test))\n",
    "            self.history[\"train_loss\"].append(\n",
    "                self.loss_function(y_train, self.predict_batch(x_train)) / len(y_train))\n",
    "            self.history[\"val_loss\"].append(\n",
    "                self.loss_function(y_test, self.predict_batch(x_test)) / len(y_test))\n",
    "            if epoch % 50 == 0:\n",
    "                print(\n",
    "                    f\"epoch: {epoch}; train loss: {self.history['train_loss'][-1]}; val loss: {self.history['val_loss'][-1]}\")\n",
    "                print(f\"train acc: {self.history['train_acc'][-1]}; val acc: {self.history['val_acc'][-1]}\\n\")\n",
    "\n",
    "    def score(self, X, y):\n",
    "        predictions = self.predict_batch(X)\n",
    "        return np.sum(np.argmax(predictions, axis=1) == np.argmax(y, axis=1)) / len(y)\n",
    "\n",
    "\n",
    "def ccategorical_crossentropy(y_true, y_pred, der=False):\n",
    "    if der:\n",
    "        return (y_pred - y_true) / y_true.shape\n",
    "    y_pred = np.clip(y_pred, 1e-9, 1 - 1e-9)\n",
    "    return -np.sum(y_true * np.log(y_pred))\n",
    "\n",
    "\n",
    "def sigmoid(x, der=False):\n",
    "    if der:\n",
    "        return sigmoid(x) * (1 - sigmoid(x))\n",
    "    return 1 / (1 + np.exp(-x))\n",
    "\n",
    "\n",
    "def softmax(x, der=False):\n",
    "    if der:\n",
    "        s = softmax(x)\n",
    "        return np.diag(s) - np.outer(s, s)\n",
    "    return (np.exp(x) / np.exp(x).sum())\n"
   ],
   "metadata": {
    "collapsed": false,
    "pycharm": {
     "name": "#%%\n"
    }
   }
  },
  {
   "cell_type": "code",
   "execution_count": 4,
   "outputs": [],
   "source": [
    "X, y = datasets.load_wine(return_X_y=True)\n",
    "y_cat = []\n",
    "converter = {\n",
    "    0: [1, 0, 0],\n",
    "    1: [0, 1, 0],\n",
    "    2: [0, 0, 1],\n",
    "}\n",
    "for label in y:\n",
    "    y_cat.append(np.array(converter[label]))\n",
    "scaler = MinMaxScaler()\n",
    "X = scaler.fit_transform(X)\n",
    "# Split the dataset into training and test sets\n",
    "X_train, X_test, y_train, y_test = train_test_split(X, y_cat, test_size=0.2)"
   ],
   "metadata": {
    "collapsed": false,
    "pycharm": {
     "name": "#%%\n"
    }
   }
  },
  {
   "cell_type": "code",
   "execution_count": 5,
   "outputs": [
    {
     "name": "stdout",
     "output_type": "stream",
     "text": [
      "epoch: 0; train loss: 1.0935118538892155; val loss: 1.1008028851035092\n",
      "train acc: 0.4014084507042254; val acc: 0.3888888888888889\n",
      "\n",
      "epoch: 50; train loss: 1.079198090010205; val loss: 1.0817515729200815\n",
      "train acc: 0.4014084507042254; val acc: 0.3888888888888889\n",
      "\n",
      "epoch: 100; train loss: 1.0689361979077923; val loss: 1.0731481132965888\n",
      "train acc: 0.4014084507042254; val acc: 0.3888888888888889\n",
      "\n",
      "epoch: 150; train loss: 1.0535299555572275; val loss: 1.060256755197641\n",
      "train acc: 0.4014084507042254; val acc: 0.3888888888888889\n",
      "\n",
      "epoch: 200; train loss: 1.025044322794339; val loss: 1.0359783243677458\n",
      "train acc: 0.5422535211267606; val acc: 0.4722222222222222\n",
      "\n",
      "epoch: 250; train loss: 0.9689724345128182; val loss: 0.9867456773249751\n",
      "train acc: 0.6619718309859155; val acc: 0.5833333333333334\n",
      "\n",
      "epoch: 300; train loss: 0.8904521618174341; val loss: 0.916769707763195\n",
      "train acc: 0.6408450704225352; val acc: 0.5555555555555556\n",
      "\n",
      "epoch: 350; train loss: 0.8109403039486591; val loss: 0.8451526236641617\n",
      "train acc: 0.852112676056338; val acc: 0.7777777777777778\n",
      "\n",
      "epoch: 400; train loss: 0.7390893885470567; val loss: 0.7794320909164025\n",
      "train acc: 0.9225352112676056; val acc: 0.8333333333333334\n",
      "\n",
      "epoch: 450; train loss: 0.6721100517659458; val loss: 0.7170233361211755\n",
      "train acc: 0.9507042253521126; val acc: 0.8888888888888888\n",
      "\n",
      "epoch: 500; train loss: 0.6011510250003356; val loss: 0.6489058934305955\n",
      "train acc: 0.9647887323943662; val acc: 0.8888888888888888\n",
      "\n",
      "epoch: 550; train loss: 0.5241092419428293; val loss: 0.5721393387682133\n",
      "train acc: 0.9647887323943662; val acc: 0.9166666666666666\n",
      "\n",
      "epoch: 600; train loss: 0.4468773889870146; val loss: 0.4935815274180915\n",
      "train acc: 0.9788732394366197; val acc: 0.9166666666666666\n",
      "\n",
      "epoch: 650; train loss: 0.3787016946226333; val loss: 0.42357732174077894\n",
      "train acc: 0.9788732394366197; val acc: 0.9166666666666666\n",
      "\n",
      "epoch: 700; train loss: 0.32459804426163863; val loss: 0.3675613703583567\n",
      "train acc: 0.9859154929577465; val acc: 0.9166666666666666\n",
      "\n",
      "epoch: 750; train loss: 0.2834402382657497; val loss: 0.3245467419377835\n",
      "train acc: 0.9859154929577465; val acc: 0.9444444444444444\n",
      "\n"
     ]
    }
   ],
   "source": [
    "hidden_layers = [16]\n",
    "activations = [sigmoid] * len(hidden_layers) + [softmax]\n",
    "perceptron = Perceptron(13, hidden_layers, 3, activations, loss_function=ccategorical_crossentropy)\n",
    "\n",
    "perceptron.train(X_train, y_train, X_test, y_test, learning_rate=0.01, epochs=800)"
   ],
   "metadata": {
    "collapsed": false,
    "pycharm": {
     "name": "#%%\n"
    }
   }
  },
  {
   "cell_type": "code",
   "execution_count": 7,
   "outputs": [
    {
     "data": {
      "text/plain": "<matplotlib.legend.Legend at 0x7f0809a7c5e0>"
     },
     "execution_count": 7,
     "metadata": {},
     "output_type": "execute_result"
    },
    {
     "data": {
      "text/plain": "<Figure size 640x480 with 1 Axes>",
      "image/png": "[encoded data removed]"
     },
     "metadata": {},
     "output_type": "display_data"
    }
   ],
   "source": [
    "from matplotlib import pyplot as plt\n",
    "\n",
    "plt.plot(perceptron.history[\"train_loss\"], label=\"train loss\", color=\"blue\")\n",
    "plt.plot(perceptron.history[\"val_loss\"], label=\"val loss\", color=\"red\")\n",
    "plt.legend()"
   ],
   "metadata": {
    "collapsed": false,
    "pycharm": {
     "name": "#%%\n"
    }
   }
  },
  {
   "cell_type": "code",
   "execution_count": 8,
   "outputs": [
    {
     "data": {
      "text/plain": "<matplotlib.legend.Legend at 0x7f080bb4b9d0>"
     },
     "execution_count": 8,
     "metadata": {},
     "output_type": "execute_result"
    },
    {
     "data": {
      "text/plain": "<Figure size 640x480 with 1 Axes>",
      "image/png": "[encoded data removed]"
     },
     "metadata": {},
     "output_type": "display_data"
    }
   ],
   "source": [
    "plt.plot(perceptron.history[\"train_acc\"], label=\"train acc\", color=\"blue\")\n",
    "plt.plot(perceptron.history[\"val_acc\"], label=\"val acc\", color=\"red\")\n",
    "plt.legend()"
   ],
   "metadata": {
    "collapsed": false,
    "pycharm": {
     "name": "#%%\n"
    }
   }
  }
 ],
 "metadata": {
  "kernelspec": {
   "display_name": "Python 3",
   "language": "python",
   "name": "python3"
  },
  "language_info": {
   "codemirror_mode": {
    "name": "ipython",
    "version": 2
   },
   "file_extension": ".py",
   "mimetype": "text/x-python",
   "name": "python",
   "nbconvert_exporter": "python",
   "pygments_lexer": "ipython2",
   "version": "2.7.6"
  }
 },
 "nbformat": 4,
 "nbformat_minor": 0
}