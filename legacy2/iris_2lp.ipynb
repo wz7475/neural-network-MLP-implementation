{
 "cells": [
  {
   "cell_type": "code",
   "execution_count": 8,
   "outputs": [],
   "source": [
    "import numpy as np\n",
    "\n",
    "\n",
    "class Perceptron:\n",
    "    def __init__(self, num_features, num_hidden_units, num_classes):\n",
    "        self.num_features = num_features\n",
    "        self.num_hidden_units = num_hidden_units\n",
    "        self.num_classes = num_classes\n",
    "        self.weights_input_to_hidden = np.zeros((num_hidden_units, num_features))\n",
    "        self.weights_hidden_to_output = np.zeros((num_classes, num_hidden_units))\n",
    "        self.bias_hidden = np.zeros(num_hidden_units)\n",
    "        self.bias_output = np.zeros(num_classes)\n",
    "\n",
    "    def predict(self, x):\n",
    "        # Calculate activations of hidden units\n",
    "        hidden_activations = np.dot(self.weights_input_to_hidden, x) + self.bias_hidden\n",
    "        # Apply activation function to hidden activations\n",
    "        hidden_output = self._sigmoid(hidden_activations)\n",
    "        # Calculate activations of output units\n",
    "        output_activations = np.dot(self.weights_hidden_to_output, hidden_output) + self.bias_output\n",
    "        # Apply activation function to output activations\n",
    "        output = self._sigmoid(output_activations)\n",
    "        return output\n",
    "\n",
    "    def train(self, x, y, learning_rate=0.1, epochs=100):\n",
    "        for epoch in range(epochs):\n",
    "            for i in range(len(x)):\n",
    "                prediction = self.predict(x[i])\n",
    "                error = y[i] - prediction\n",
    "                # Calculate activations of hidden units\n",
    "                hidden_activations = np.dot(self.weights_input_to_hidden, x[i]) + self.bias_hidden\n",
    "                # Apply activation function to hidden activations\n",
    "                hidden_output = self._sigmoid(hidden_activations)\n",
    "                # Update weights and biases\n",
    "                self.weights_hidden_to_output += (learning_rate * error * hidden_output[:, np.newaxis]).reshape(self.num_classes, self.num_hidden_units)\n",
    "                self.bias_output += learning_rate * error\n",
    "                self.weights_input_to_hidden += learning_rate * error * hidden_output * (1 - hidden_output) * x[i][:, np.newaxis]\n",
    "                self.bias_hidden += learning_rate * error * hidden_output * (1 - hidden_output)\n",
    "\n",
    "    def _sigmoid(self, x):\n",
    "        return 1 / (1 + np.exp(-x))"
   ],
   "metadata": {
    "collapsed": false,
    "pycharm": {
     "name": "#%%\n"
    }
   }
  },
  {
   "cell_type": "code",
   "execution_count": 2,
   "outputs": [],
   "source": [
    "from sklearn.preprocessing import MinMaxScaler\n",
    "from sklearn.model_selection import train_test_split\n",
    "from sklearn import datasets\n",
    "\n",
    "# Load the Wine dataset\n",
    "X, y = datasets.load_iris(return_X_y=True)\n",
    "y_cat = []\n",
    "converter = {\n",
    "    0: [1, 0, 0],\n",
    "    1: [0, 1, 0],\n",
    "    2: [0, 0, 1],\n",
    "}\n",
    "for label in y:\n",
    "    y_cat.append(converter[label])\n",
    "scaler = MinMaxScaler()\n",
    "X = scaler.fit_transform(X)\n",
    "# Split the dataset into training and test sets\n",
    "X_train, X_test, y_train, y_test = train_test_split(X, y_cat, test_size=0.2)"
   ],
   "metadata": {
    "collapsed": false,
    "pycharm": {
     "name": "#%%\n"
    }
   }
  },
  {
   "cell_type": "code",
   "execution_count": 3,
   "outputs": [],
   "source": [
    "# from sklearn.preprocessing import OneHotEncoder\n",
    "# enc = OneHotEncoder(handle_unknown='ignore')\n",
    "# y_hot = enc.fit_transform(X, y)\n",
    "y_cat = []\n",
    "converter = {\n",
    "    0: [1, 0, 0],\n",
    "    1: [0, 1, 0],\n",
    "    2: [0, 0, 1],\n",
    "}\n",
    "for label in y:\n",
    "    y_cat.append(converter[label])"
   ],
   "metadata": {
    "collapsed": false,
    "pycharm": {
     "name": "#%%\n"
    }
   }
  },
  {
   "cell_type": "code",
   "execution_count": 9,
   "outputs": [],
   "source": [
    "perceptron = Perceptron(4, 8, 3)"
   ],
   "metadata": {
    "collapsed": false,
    "pycharm": {
     "name": "#%%\n"
    }
   }
  },
  {
   "cell_type": "code",
   "execution_count": 14,
   "outputs": [
    {
     "ename": "ValueError",
     "evalue": "operands could not be broadcast together with shapes (3,) (8,) ",
     "output_type": "error",
     "traceback": [
      "\u001B[0;31m---------------------------------------------------------------------------\u001B[0m",
      "\u001B[0;31mValueError\u001B[0m                                Traceback (most recent call last)",
      "Input \u001B[0;32mIn [14]\u001B[0m, in \u001B[0;36m<cell line: 1>\u001B[0;34m()\u001B[0m\n\u001B[0;32m----> 1\u001B[0m \u001B[43mperceptron\u001B[49m\u001B[38;5;241;43m.\u001B[39;49m\u001B[43mtrain\u001B[49m\u001B[43m(\u001B[49m\u001B[43mX_train\u001B[49m\u001B[43m,\u001B[49m\u001B[43m \u001B[49m\u001B[43my_train\u001B[49m\u001B[43m)\u001B[49m\n",
      "Input \u001B[0;32mIn [8]\u001B[0m, in \u001B[0;36mPerceptron.train\u001B[0;34m(self, x, y, learning_rate, epochs)\u001B[0m\n\u001B[1;32m     35\u001B[0m \u001B[38;5;28mself\u001B[39m\u001B[38;5;241m.\u001B[39mweights_hidden_to_output \u001B[38;5;241m+\u001B[39m\u001B[38;5;241m=\u001B[39m (learning_rate \u001B[38;5;241m*\u001B[39m error \u001B[38;5;241m*\u001B[39m hidden_output[:, np\u001B[38;5;241m.\u001B[39mnewaxis])\u001B[38;5;241m.\u001B[39mreshape(\u001B[38;5;28mself\u001B[39m\u001B[38;5;241m.\u001B[39mnum_classes, \u001B[38;5;28mself\u001B[39m\u001B[38;5;241m.\u001B[39mnum_hidden_units)\n\u001B[1;32m     36\u001B[0m \u001B[38;5;28mself\u001B[39m\u001B[38;5;241m.\u001B[39mbias_output \u001B[38;5;241m+\u001B[39m\u001B[38;5;241m=\u001B[39m learning_rate \u001B[38;5;241m*\u001B[39m error\n\u001B[0;32m---> 37\u001B[0m \u001B[38;5;28mself\u001B[39m\u001B[38;5;241m.\u001B[39mweights_input_to_hidden \u001B[38;5;241m+\u001B[39m\u001B[38;5;241m=\u001B[39m \u001B[43mlearning_rate\u001B[49m\u001B[43m \u001B[49m\u001B[38;5;241;43m*\u001B[39;49m\u001B[43m \u001B[49m\u001B[43merror\u001B[49m\u001B[43m \u001B[49m\u001B[38;5;241;43m*\u001B[39;49m\u001B[43m \u001B[49m\u001B[43mhidden_output\u001B[49m \u001B[38;5;241m*\u001B[39m (\u001B[38;5;241m1\u001B[39m \u001B[38;5;241m-\u001B[39m hidden_output) \u001B[38;5;241m*\u001B[39m x[i][:, np\u001B[38;5;241m.\u001B[39mnewaxis]\n\u001B[1;32m     38\u001B[0m \u001B[38;5;28mself\u001B[39m\u001B[38;5;241m.\u001B[39mbias_hidden \u001B[38;5;241m+\u001B[39m\u001B[38;5;241m=\u001B[39m learning_rate \u001B[38;5;241m*\u001B[39m error \u001B[38;5;241m*\u001B[39m hidden_output \u001B[38;5;241m*\u001B[39m (\u001B[38;5;241m1\u001B[39m \u001B[38;5;241m-\u001B[39m hidden_output)\n",
      "\u001B[0;31mValueError\u001B[0m: operands could not be broadcast together with shapes (3,) (8,) "
     ]
    },
    {
     "name": "stderr",
     "output_type": "stream",
     "text": [
      "Traceback (most recent call last):\n",
      "  File \"/home/wojtek/.local/share/JetBrains/Toolbox/apps/PyCharm-P/ch-0/221.5080.212/plugins/python/helpers/pydev/_pydevd_bundle/pydevd_frame.py\", line 861, in trace_dispatch\n",
      "    result = plugin_manager.cmd_step_over(main_debugger, frame, event, self._args, stop_info, stop)\n",
      "  File \"/home/wojtek/.local/share/JetBrains/Toolbox/apps/PyCharm-P/ch-0/221.5080.212/plugins/python/helpers-pro/jupyter_debug/pydev_jupyter_plugin.py\", line 144, in cmd_step_over\n",
      "    if _is_inside_jupyter_cell(frame, pydb):\n",
      "  File \"/home/wojtek/.local/share/JetBrains/Toolbox/apps/PyCharm-P/ch-0/221.5080.212/plugins/python/helpers-pro/jupyter_debug/pydev_jupyter_plugin.py\", line 209, in _is_inside_jupyter_cell\n",
      "    if is_cell_filename(filename):\n",
      "  File \"/home/wojtek/.local/share/JetBrains/Toolbox/apps/PyCharm-P/ch-0/221.5080.212/plugins/python/helpers-pro/jupyter_debug/pydev_jupyter_plugin.py\", line 220, in is_cell_filename\n",
      "    ipython_shell = get_ipython()\n",
      "NameError: name 'get_ipython' is not defined\n"
     ]
    }
   ],
   "source": [
    "perceptron.train(X_train, y_train)"
   ],
   "metadata": {
    "collapsed": false,
    "pycharm": {
     "name": "#%%\n"
    }
   }
  }
 ],
 "metadata": {
  "kernelspec": {
   "display_name": "Python 3",
   "language": "python",
   "name": "python3"
  },
  "language_info": {
   "codemirror_mode": {
    "name": "ipython",
    "version": 2
   },
   "file_extension": ".py",
   "mimetype": "text/x-python",
   "name": "python",
   "nbconvert_exporter": "python",
   "pygments_lexer": "ipython2",
   "version": "2.7.6"
  }
 },
 "nbformat": 4,
 "nbformat_minor": 0
}