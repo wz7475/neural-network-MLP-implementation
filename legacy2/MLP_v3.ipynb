{
 "cells": [
  {
   "cell_type": "code",
   "execution_count": null,
   "outputs": [],
   "source": [],
   "metadata": {
    "collapsed": false,
    "pycharm": {
     "name": "#%%\n"
    }
   }
  },
  {
   "cell_type": "code",
   "execution_count": 42,
   "metadata": {
    "collapsed": true,
    "pycharm": {
     "name": "#%%\n"
    }
   },
   "outputs": [],
   "source": [
    "import numpy as np\n",
    "\n",
    "class MLP:\n",
    "    def __init__(self, layers, activation_functions):\n",
    "        \"\"\"\n",
    "        Initializes the MLP.\n",
    "        layers: a list of integers, where each integer represents the number of neurons in a layer.\n",
    "        activation_functions: a list of functions, where each function is the activation function for a layer.\n",
    "        \"\"\"\n",
    "        self.layers = layers\n",
    "        self.activation_functions = activation_functions\n",
    "        self.num_layers = len(layers)\n",
    "\n",
    "        self.weights = []\n",
    "        self.biases = []\n",
    "        for i in range(1, self.num_layers):\n",
    "            self.weights.append(np.random.randn(layers[i], layers[i-1]))\n",
    "            self.biases.append(np.random.randn(layers[i]))\n",
    "\n",
    "    def forward_pass(self, input_data):\n",
    "        \"\"\"\n",
    "        Propagates the input data through the MLP and returns the output.\n",
    "        input_data: the input data, which should be a numpy array of shape (batch_size, num_features).\n",
    "        \"\"\"\n",
    "        data = input_data\n",
    "        for i in range(self.num_layers-1):\n",
    "            dot_product = np.dot(data, self.weights[i].T) + self.biases[i]\n",
    "            data = self.activation_functions[i](dot_product)\n",
    "        return data\n",
    "\n",
    "    def categorical_cross_entropy_loss(self, y_pred, y_true):\n",
    "        \"\"\"\n",
    "        Calculates the categorical cross-entropy loss between the predicted output and the true output.\n",
    "        y_pred: the predicted output, which should be a numpy array of shape (batch_size, num_classes).\n",
    "        y_true: the true output, which should be a numpy array of shape (batch_size, num_classes).\n",
    "        \"\"\"\n",
    "        # Calculate the loss for each sample\n",
    "        losses = -np.sum(y_true * np.log(y_pred), axis=1)\n",
    "        # Return the average loss across the batch\n",
    "        return np.mean(losses)\n",
    "\n",
    "    def backpropagation(self, y_pred, y_true):\n",
    "        \"\"\"\n",
    "        Adjusts the weights and biases using backpropagation.\n",
    "        y_pred: the predicted output, which should be a numpy array of shape (batch_size, num_classes).\n",
    "        y_true: the true output, which should be a numpy array of shape (batch_size, num_classes).\n",
    "        \"\"\"\n",
    "        # Calculate the error at the output layer\n",
    "        # error = y_pred - y_true\n",
    "        error = self.categorical_cross_entropy_loss(y_pred, y_true)\n",
    "        # Iterate backwards through the layers of the MLP\n",
    "        for i in reversed(range(self.num_layers-1)):\n",
    "            # Calculate the error at the current layer\n",
    "            error = error * self.activation_functions[i](y_pred, derivative=True)\n",
    "            # Calculate the gradient for the weights and biases at the current layer\n",
    "            gradient_weights = np.dot(error.T, y_pred)\n",
    "            gradient_biases = np.sum(error, axis=0)\n",
    "            # Update the weights and biases at the current layer\n",
    "            learning_rate = 0.1  # You may want to experiment with different learning rates\n",
    "            self.weights[i] = self.weights[i] - learning_rate * gradient_weights\n",
    "            self.biases[i] = self.biases[i] - learning_rate * gradient_biases\n",
    "            # Set the error for the next iteration\n",
    "            error = np.dot(error, self.weights[i])\n",
    "\n",
    "    def train(self, X, y, epochs=10, batch_size=32, learning_rate=0.1):\n",
    "        \"\"\"\n",
    "        Trains the MLP on the given data using gradient descent.\n",
    "        X: the input data, which should be a numpy array of shape (num_samples, num_features).\n",
    "        y: the true labels, which should be a numpy array of shape (num_samples, num_classes).\n",
    "        epochs: the number of epochs to train for (default: 10).\n",
    "        batch_size: the size of the mini-batches to use for gradient descent (default: 32).\n",
    "        learning_rate: the learning rate to use for gradient descent (default: 0.1).\n",
    "        \"\"\"\n",
    "        num_samples = X.shape[0]\n",
    "        for epoch in range(epochs):\n",
    "            # Shuffle the data at the beginning of each epoch\n",
    "            shuffle_indices = np.random.permutation(num_samples)\n",
    "            X = X[shuffle_indices]\n",
    "            y = y[shuffle_indices]\n",
    "            # Split the data into mini-batches\n",
    "            for i in range(0, num_samples, batch_size):\n",
    "                X_batch = X[i:i+batch_size]\n",
    "                y_batch = y[i:i+batch_size]\n",
    "                # Propagate the input data through the MLP\n",
    "                y_pred = self.forward_pass(X_batch)\n",
    "                # Calculate the loss and the gradients\n",
    "                loss = self.categorical_cross_entropy_loss(y_pred, y_batch)\n",
    "                self.backpropagation(y_pred, y_batch)\n",
    "                # Print the loss for each epoch\n",
    "                print(f\"Epoch {epoch+1}/{epochs}, batch {i}/{num_samples}: loss = {loss}\")\n",
    "\n",
    "    def predict(self, X):\n",
    "        \"\"\"\n",
    "        Predicts the output for the given input data.\n",
    "        X: the input data, which should be a numpy array of shape (num_samples, num_features).\n",
    "        Returns: a numpy array of shape (num_samples, num_classes) containing the predicted output.\n",
    "        \"\"\"\n",
    "        return self.forward_pass(X)\n",
    "\n",
    "    def score(self, X, y):\n",
    "        \"\"\"\n",
    "        Calculates the accuracy of the MLP on the given data.\n",
    "        X: the input data, which should be a numpy array of shape (num_samples, num_features).\n",
    "        y: the true labels, which should be a numpy array of shape (num_samples,).\n",
    "        Returns: the accuracy as a float.\n",
    "        \"\"\"\n",
    "        # Predict the output\n",
    "        y_pred = self.predict(X)\n",
    "        # Convert the predicted output and the true labels to one-hot encoded form\n",
    "        y_pred_one_hot = np.zeros_like(y_pred)\n",
    "        y_pred_one_hot[np.arange(y_pred.shape[0]), np.argmax(y_pred, axis=1)] = 1\n",
    "        y_true_one_hot = np.zeros_like(y_pred)\n",
    "        y_true_one_hot[np.arange(y_pred.shape[0]), y] = 1\n",
    "        # Calculate the number of correct predictions\n",
    "        correct = np.sum(np.all(y_pred_one_hot == y_true_one_hot, axis=1))\n",
    "        # Calculate the accuracy\n",
    "        accuracy = correct / y.shape[0]\n",
    "        return accuracy"
   ]
  },
  {
   "cell_type": "code",
   "execution_count": 3,
   "outputs": [],
   "source": [
    "def relu(x, derivative=False):\n",
    "    \"\"\"\n",
    "    Calculates the ReLU activation function.\n",
    "    x: the input data.\n",
    "    derivative: a boolean flag indicating whether to return the derivative of the function (default: False).\n",
    "    Returns: the output of the ReLU function.\n",
    "    \"\"\"\n",
    "    if derivative:\n",
    "        return (x > 0).astype(float)\n",
    "    return np.maximum(0, x)\n",
    "\n",
    "def softmax(x, derivative=False):\n",
    "    \"\"\"\n",
    "    Calculates the softmax activation function.\n",
    "    x: the input data.\n",
    "    derivative: a boolean flag indicating whether to return the derivative of the function (default: False).\n",
    "    Returns: the output of the softmax function.\n",
    "    \"\"\"\n",
    "    if derivative:\n",
    "        # The derivative of the softmax function is not well-defined\n",
    "        raise ValueError(\"The derivative of the softmax function is not well-defined\")\n",
    "    # Subtract the maximum value from the input to avoid numerical instability\n",
    "    x = x - np.max(x, axis=1, keepdims=True)\n",
    "    # Calculate the exponential of the input\n",
    "    exp = np.exp(x)\n",
    "    # Normalize the exponential by dividing by the sum along the class axis\n",
    "    return exp / np.sum(exp, axis=1, keepdims=True)\n"
   ],
   "metadata": {
    "collapsed": false,
    "pycharm": {
     "name": "#%%\n"
    }
   }
  },
  {
   "cell_type": "code",
   "execution_count": 47,
   "outputs": [],
   "source": [
    "from sklearn.model_selection import train_test_split\n",
    "from sklearn.preprocessing import MinMaxScaler\n",
    "from keras.utils import to_categorical\n",
    "# Load the wine dataset\n",
    "from sklearn.datasets import load_wine\n",
    "X, y = load_wine(return_X_y=True)\n",
    "y = to_categorical(y)\n",
    "scaler = MinMaxScaler()\n",
    "X = scaler.fit_transform(X)\n",
    "X_train, X_test, Y_train, Y_test = train_test_split(X, y, test_size=0.20)"
   ],
   "metadata": {
    "collapsed": false,
    "pycharm": {
     "name": "#%%\n"
    }
   }
  },
  {
   "cell_type": "code",
   "execution_count": 48,
   "outputs": [],
   "source": [
    "# Define the number of features and classes\n",
    "num_features = X.shape[1]\n",
    "num_classes = len(np.unique(y))\n",
    "\n",
    "# Define an MLP with 2 hidden layers, each with 128 neurons and ReLU activation\n",
    "mlp = MLP([num_features, num_classes], [relu, softmax])"
   ],
   "metadata": {
    "collapsed": false,
    "pycharm": {
     "name": "#%%\n"
    }
   }
  },
  {
   "cell_type": "code",
   "execution_count": 49,
   "outputs": [
    {
     "ename": "ValueError",
     "evalue": "operands could not be broadcast together with shapes (1,3) (1,2) ",
     "output_type": "error",
     "traceback": [
      "\u001B[0;31m---------------------------------------------------------------------------\u001B[0m",
      "\u001B[0;31mValueError\u001B[0m                                Traceback (most recent call last)",
      "Input \u001B[0;32mIn [49]\u001B[0m, in \u001B[0;36m<cell line: 1>\u001B[0;34m()\u001B[0m\n\u001B[0;32m----> 1\u001B[0m \u001B[43mmlp\u001B[49m\u001B[38;5;241;43m.\u001B[39;49m\u001B[43mtrain\u001B[49m\u001B[43m(\u001B[49m\u001B[43mX_train\u001B[49m\u001B[43m,\u001B[49m\u001B[43m \u001B[49m\u001B[43mY_train\u001B[49m\u001B[43m,\u001B[49m\u001B[43m \u001B[49m\u001B[43mepochs\u001B[49m\u001B[38;5;241;43m=\u001B[39;49m\u001B[38;5;241;43m10\u001B[39;49m\u001B[43m,\u001B[49m\u001B[43m \u001B[49m\u001B[43mbatch_size\u001B[49m\u001B[38;5;241;43m=\u001B[39;49m\u001B[38;5;241;43m1\u001B[39;49m\u001B[43m,\u001B[49m\u001B[43m \u001B[49m\u001B[43mlearning_rate\u001B[49m\u001B[38;5;241;43m=\u001B[39;49m\u001B[38;5;241;43m0.1\u001B[39;49m\u001B[43m)\u001B[49m\n",
      "Input \u001B[0;32mIn [42]\u001B[0m, in \u001B[0;36mMLP.train\u001B[0;34m(self, X, y, epochs, batch_size, learning_rate)\u001B[0m\n\u001B[1;32m     85\u001B[0m y_pred \u001B[38;5;241m=\u001B[39m \u001B[38;5;28mself\u001B[39m\u001B[38;5;241m.\u001B[39mforward_pass(X_batch)\n\u001B[1;32m     86\u001B[0m \u001B[38;5;66;03m# Calculate the loss and the gradients\u001B[39;00m\n\u001B[0;32m---> 87\u001B[0m loss \u001B[38;5;241m=\u001B[39m \u001B[38;5;28;43mself\u001B[39;49m\u001B[38;5;241;43m.\u001B[39;49m\u001B[43mcategorical_cross_entropy_loss\u001B[49m\u001B[43m(\u001B[49m\u001B[43my_pred\u001B[49m\u001B[43m,\u001B[49m\u001B[43m \u001B[49m\u001B[43my_batch\u001B[49m\u001B[43m)\u001B[49m\n\u001B[1;32m     88\u001B[0m \u001B[38;5;28mself\u001B[39m\u001B[38;5;241m.\u001B[39mbackpropagation(y_pred, y_batch)\n\u001B[1;32m     89\u001B[0m \u001B[38;5;66;03m# Print the loss for each epoch\u001B[39;00m\n",
      "Input \u001B[0;32mIn [42]\u001B[0m, in \u001B[0;36mMLP.categorical_cross_entropy_loss\u001B[0;34m(self, y_pred, y_true)\u001B[0m\n\u001B[1;32m     32\u001B[0m \u001B[38;5;124;03m\"\"\"\u001B[39;00m\n\u001B[1;32m     33\u001B[0m \u001B[38;5;124;03mCalculates the categorical cross-entropy loss between the predicted output and the true output.\u001B[39;00m\n\u001B[1;32m     34\u001B[0m \u001B[38;5;124;03my_pred: the predicted output, which should be a numpy array of shape (batch_size, num_classes).\u001B[39;00m\n\u001B[1;32m     35\u001B[0m \u001B[38;5;124;03my_true: the true output, which should be a numpy array of shape (batch_size, num_classes).\u001B[39;00m\n\u001B[1;32m     36\u001B[0m \u001B[38;5;124;03m\"\"\"\u001B[39;00m\n\u001B[1;32m     37\u001B[0m \u001B[38;5;66;03m# Calculate the loss for each sample\u001B[39;00m\n\u001B[0;32m---> 38\u001B[0m losses \u001B[38;5;241m=\u001B[39m \u001B[38;5;241m-\u001B[39mnp\u001B[38;5;241m.\u001B[39msum(\u001B[43my_true\u001B[49m\u001B[43m \u001B[49m\u001B[38;5;241;43m*\u001B[39;49m\u001B[43m \u001B[49m\u001B[43mnp\u001B[49m\u001B[38;5;241;43m.\u001B[39;49m\u001B[43mlog\u001B[49m\u001B[43m(\u001B[49m\u001B[43my_pred\u001B[49m\u001B[43m)\u001B[49m, axis\u001B[38;5;241m=\u001B[39m\u001B[38;5;241m1\u001B[39m)\n\u001B[1;32m     39\u001B[0m \u001B[38;5;66;03m# Return the average loss across the batch\u001B[39;00m\n\u001B[1;32m     40\u001B[0m \u001B[38;5;28;01mreturn\u001B[39;00m np\u001B[38;5;241m.\u001B[39mmean(losses)\n",
      "\u001B[0;31mValueError\u001B[0m: operands could not be broadcast together with shapes (1,3) (1,2) "
     ]
    }
   ],
   "source": [
    "mlp.train(X_train, Y_train, epochs=10, batch_size=1, learning_rate=0.1)"
   ],
   "metadata": {
    "collapsed": false,
    "pycharm": {
     "name": "#%%\n"
    }
   }
  }
 ],
 "metadata": {
  "kernelspec": {
   "display_name": "Python 3",
   "language": "python",
   "name": "python3"
  },
  "language_info": {
   "codemirror_mode": {
    "name": "ipython",
    "version": 2
   },
   "file_extension": ".py",
   "mimetype": "text/x-python",
   "name": "python",
   "nbconvert_exporter": "python",
   "pygments_lexer": "ipython2",
   "version": "2.7.6"
  }
 },
 "nbformat": 4,
 "nbformat_minor": 0
}