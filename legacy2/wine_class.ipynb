{
 "cells": [
  {
   "cell_type": "code",
   "execution_count": 1,
   "metadata": {
    "collapsed": true,
    "pycharm": {
     "name": "#%%\n"
    }
   },
   "outputs": [],
   "source": [
    "from ANN import ANN, layers\n",
    "import numpy as np"
   ]
  },
  {
   "cell_type": "code",
   "execution_count": 4,
   "outputs": [],
   "source": [
    "from sklearn.model_selection import train_test_split\n",
    "from sklearn.preprocessing import MinMaxScaler\n",
    "from sklearn import datasets\n",
    "wine_data = datasets.load_wine()\n",
    "X = wine_data[\"data\"]\n",
    "Y = wine_data[\"target\"]\n",
    "\n",
    "scaler = MinMaxScaler()\n",
    "\n",
    "# Fit the scaler to the training data\n",
    "scaler.fit(X)\n",
    "\n",
    "# Use the scaler to transform the training and test data\n",
    "X_train_scaled = scaler.transform(X)\n",
    "X_train, X_test, Y_train, Y_test = train_test_split(X, Y, test_size=0.30)"
   ],
   "metadata": {
    "collapsed": false,
    "pycharm": {
     "name": "#%%\n"
    }
   }
  },
  {
   "cell_type": "code",
   "execution_count": 5,
   "outputs": [
    {
     "name": "stdout",
     "output_type": "stream",
     "text": [
      "Start fitting...\n",
      "Model recap: \n",
      "\n",
      "You are fitting an ANN with the following amount of layers:  3\n",
      "Layer  1\n",
      "Number of neurons:  8\n",
      "\tActivation:  ReLU\n",
      "Layer  2\n",
      "Number of neurons:  4\n",
      "\tActivation:  ReLU\n",
      "Layer  3\n",
      "Number of neurons:  2\n",
      "\tActivation:  sigmoid\n",
      "Fit done. \n",
      "\n",
      "Starting predictions...\n",
      "Predictions done. \n",
      "\n"
     ]
    },
    {
     "name": "stderr",
     "output_type": "stream",
     "text": [
      "/home/wojtek/PycharmProjects/wsi/lab5/ANN.py:231: RuntimeWarning: overflow encountered in exp\n",
      "  f = 1/(1+ np.exp(- x))\n",
      "/home/wojtek/.local/lib/python3.10/site-packages/numpy/lib/function_base.py:334: VisibleDeprecationWarning: Creating an ndarray from ragged nested sequences (which is a list-or-tuple of lists-or-tuples-or ndarrays with different lengths or shapes) is deprecated. If you meant to do this, you must specify 'dtype=object' when creating the ndarray.\n",
      "  m = asarray(m)\n",
      "/home/wojtek/PycharmProjects/wsi/lab5/ANN.py:76: VisibleDeprecationWarning: Creating an ndarray from ragged nested sequences (which is a list-or-tuple of lists-or-tuples-or ndarrays with different lengths or shapes) is deprecated. If you meant to do this, you must specify 'dtype=object' when creating the ndarray.\n",
      "  return np.array(self.W), np.array(self.B)\n",
      "/home/wojtek/.local/lib/python3.10/site-packages/numpy/lib/shape_base.py:1179: RuntimeWarning: overflow encountered in multiply\n",
      "  result = _nx.multiply(a_arr, b_arr, subok=(not is_any_mat))\n",
      "/home/wojtek/PycharmProjects/wsi/lab5/ANN.py:67: RuntimeWarning: invalid value encountered in subtract\n",
      "  self.W.append(w[0] - self.eta * np.kron(self.delta[0], x).reshape(len(z[0]), x.shape[0]))\n",
      "/home/wojtek/PycharmProjects/wsi/lab5/ANN.py:68: RuntimeWarning: invalid value encountered in subtract\n",
      "  self.B.append(b[0] - self.eta * self.delta[0])\n",
      "/home/wojtek/PycharmProjects/wsi/lab5/ANN.py:72: RuntimeWarning: invalid value encountered in subtract\n",
      "  self.W.append(w[i] - self.eta * np.kron(self.delta[i], z[i - 1]).reshape(len(z[i]), len(z[i - 1])))\n"
     ]
    }
   ],
   "source": [
    "model = ANN()\n",
    "\n",
    "model.add(layers.layer(8, 'ReLU'))\n",
    "model.add(layers.layer(4, 'ReLU'))\n",
    "model.add(layers.layer(2, 'sigmoid'))\n",
    "\n",
    "model.set_learning_rate(0.8)\n",
    "\n",
    "model.Fit(X_train, Y_train)\n",
    "acc_val = model.get_accuracy()\n",
    "acc_avg_val = model.get_avg_accuracy()\n",
    "\n",
    "predictions = model.predict(X_test)"
   ],
   "metadata": {
    "collapsed": false,
    "pycharm": {
     "name": "#%%\n"
    }
   }
  },
  {
   "cell_type": "code",
   "execution_count": null,
   "outputs": [],
   "source": [],
   "metadata": {
    "collapsed": false,
    "pycharm": {
     "name": "#%%\n"
    }
   }
  }
 ],
 "metadata": {
  "kernelspec": {
   "display_name": "Python 3",
   "language": "python",
   "name": "python3"
  },
  "language_info": {
   "codemirror_mode": {
    "name": "ipython",
    "version": 2
   },
   "file_extension": ".py",
   "mimetype": "text/x-python",
   "name": "python",
   "nbconvert_exporter": "python",
   "pygments_lexer": "ipython2",
   "version": "2.7.6"
  }
 },
 "nbformat": 4,
 "nbformat_minor": 0
}